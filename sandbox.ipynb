{
 "cells": [
  {
   "cell_type": "code",
   "execution_count": 2,
   "metadata": {},
   "outputs": [
    {
     "name": "stdout",
     "output_type": "stream",
     "text": [
      "Requirement already satisfied: pandas==1.3.5 in ./.venv/lib/python3.8/site-packages (from -r requirements.txt (line 1)) (1.3.5)\n",
      "Requirement already satisfied: sqlalchemy==1.3.23 in ./.venv/lib/python3.8/site-packages (from -r requirements.txt (line 2)) (1.3.23)\n",
      "Requirement already satisfied: psycopg2_binary==2.9.6 in ./.venv/lib/python3.8/site-packages (from -r requirements.txt (line 3)) (2.9.6)\n",
      "Requirement already satisfied: streamlit==1.22.0 in ./.venv/lib/python3.8/site-packages (from -r requirements.txt (line 4)) (1.22.0)\n",
      "\u001b[31mERROR: Could not find a version that satisfies the requirement sqlite3 (from versions: none)\u001b[0m\u001b[31m\n",
      "\u001b[0m\u001b[31mERROR: No matching distribution found for sqlite3\u001b[0m\u001b[31m\n",
      "\u001b[0m"
     ]
    }
   ],
   "source": [
    "!pip install -r requirements.txt"
   ]
  },
  {
   "cell_type": "code",
   "execution_count": null,
   "metadata": {},
   "outputs": [],
   "source": []
  }
 ],
 "metadata": {
  "kernelspec": {
   "display_name": ".venv",
   "language": "python",
   "name": "python3"
  },
  "language_info": {
   "codemirror_mode": {
    "name": "ipython",
    "version": 3
   },
   "file_extension": ".py",
   "mimetype": "text/x-python",
   "name": "python",
   "nbconvert_exporter": "python",
   "pygments_lexer": "ipython3",
   "version": "3.8.16"
  },
  "orig_nbformat": 4
 },
 "nbformat": 4,
 "nbformat_minor": 2
}
